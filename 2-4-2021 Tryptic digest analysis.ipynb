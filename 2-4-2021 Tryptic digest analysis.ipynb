{
 "cells": [
  {
   "cell_type": "code",
   "execution_count": 1,
   "metadata": {},
   "outputs": [
    {
     "name": "stderr",
     "output_type": "stream",
     "text": [
      "Determination of memory status is not supported on this \n",
      " platform, measuring for memoryleaks will never fail\n"
     ]
    }
   ],
   "source": [
    "import sys\n",
    "from Bio import SeqIO\n",
    "from collections import defaultdict\n",
    "from pyopenms import *\n",
    "from matplotlib import pyplot as plt\n",
    "import pandas as pd"
   ]
  },
  {
   "cell_type": "code",
   "execution_count": 2,
   "metadata": {},
   "outputs": [],
   "source": [
    "input_fasta = '/Users/plutzer/Box/CellBio-MajorLab/Users/Rotation Students/Isaac/Digestion Code/Human_sp_2019-08-27.fasta'"
   ]
  },
  {
   "cell_type": "code",
   "execution_count": 3,
   "metadata": {},
   "outputs": [],
   "source": [
    "# Code from Dennis\n",
    "dig = ProteaseDigestion()\n",
    "dig.setMissedCleavages(1) # I would set it to 0 first because missed cleavages are rarer\n",
    "\n",
    "pep2prots = defaultdict(set)\n",
    "prot2peps = defaultdict(set)\n",
    "\n",
    "with open(input_fasta, \"r\") as handle:\n",
    "    for record in SeqIO.parse(input_fasta, \"fasta\"):\n",
    "        peptides = []\n",
    "        seq = AASequence.fromString(str(record.seq))\n",
    "        dig.digest(seq, peptides)\n",
    "        for pep in peptides:\n",
    "            s = pep.toString()#.decode(\"utf-8\")\n",
    "            if \"X\" not in s and len(s) >= 6 and pep.getMonoWeight() <= 4600:\n",
    "                pep2prots[s].add(record.id)\n",
    "                prot2peps[record.id].add(s)"
   ]
  },
  {
   "cell_type": "code",
   "execution_count": 4,
   "metadata": {},
   "outputs": [
    {
     "data": {
      "text/plain": [
       "{'DLFVPTSSSLYGCFCVGLVSGMAISVLLLASDFR',\n",
       " 'DLFVPTSSSLYGCFCVGLVSGMAISVLLLASDFRK',\n",
       " 'DSKDLFVPTSSSLYGCFCVGLVSGMAISVLLLASDFR',\n",
       " 'EASLWFVAQH',\n",
       " 'GELLGSQGVCK',\n",
       " 'GELLGSQGVCKDSK',\n",
       " 'KLDFSRPEPCFEK',\n",
       " 'LDFSRPEPCFEK',\n",
       " 'LDFSRPEPCFEKEASLWFVAQH',\n",
       " 'MESCSVAQAGVLTSPFMWR',\n",
       " 'WTGMAGALSALDNTIEDDADDQLPCGEGRPGWVR'}"
      ]
     },
     "execution_count": 4,
     "metadata": {},
     "output_type": "execute_result"
    }
   ],
   "source": [
    "prot2peps['sp|Q6ZS62|COLC1_HUMAN']"
   ]
  },
  {
   "cell_type": "code",
   "execution_count": 5,
   "metadata": {},
   "outputs": [],
   "source": [
    "# Establish a keys list and initialize a matrix for jaccard coefficients\n",
    "keys = list(prot2peps.keys())\n",
    "coeffs = np.zeros((len(keys),len(keys)))"
   ]
  },
  {
   "cell_type": "code",
   "execution_count": 6,
   "metadata": {},
   "outputs": [],
   "source": [
    "similar_pairs1 = []\n",
    "similar_pairs2 = []\n",
    "similar_coeffs = []\n",
    "for index1 in range(len(keys)):\n",
    "    for index2 in range(len(keys)):\n",
    "        set1 = prot2peps[keys[index1]]\n",
    "        set2 = prot2peps[keys[index2]]\n",
    "        jaccard = len(set1.intersection(set2))/len(set1.union(set2))\n",
    "        coeffs[(index1,index2)] = jaccard\n",
    "        if jaccard > 0.25:\n",
    "            if index1 != index2:\n",
    "                similar_pairs1.append(str(keys[index1]))\n",
    "                similar_pairs2.append(str(keys[index2]))\n",
    "                similar_coeffs.append(jaccard)\n",
    "                #print(str(keys[index1] + ' and ' + keys[index2]))"
   ]
  },
  {
   "cell_type": "code",
   "execution_count": 7,
   "metadata": {},
   "outputs": [],
   "source": [
    "similar_df = pd.DataFrame(similar_pairs1,columns=['prot1'])\n",
    "similar_df['prot2'] = similar_pairs2\n",
    "similar_df['index'] = similar_coeffs\n",
    "similar_df.to_csv('jaccards.csv')"
   ]
  },
  {
   "cell_type": "code",
   "execution_count": 31,
   "metadata": {},
   "outputs": [],
   "source": [
    "# Turn the diagonals into nans\n",
    "for index in range(len(keys)):\n",
    "    coeffs[(index,index)] = np.nan"
   ]
  },
  {
   "cell_type": "code",
   "execution_count": 53,
   "metadata": {},
   "outputs": [
    {
     "name": "stdout",
     "output_type": "stream",
     "text": [
      "sp|P78368|KC1G2_HUMAN\n",
      "sp|Q9HCP0|KC1G1_HUMAN\n",
      "sp|Q9Y6M4|KC1G3_HUMAN\n"
     ]
    }
   ],
   "source": [
    "#What is the cutoff jaccard index for the CK1Gs?\n",
    "boolkeys = ['KC1G' in item for item in keys]\n",
    "for index in [i for i,x in enumerate(boolkeys) if x]:\n",
    "    print(keys[index])"
   ]
  },
  {
   "cell_type": "code",
   "execution_count": 55,
   "metadata": {},
   "outputs": [
    {
     "data": {
      "text/plain": [
       "0.28703703703703703"
      ]
     },
     "execution_count": 55,
     "metadata": {},
     "output_type": "execute_result"
    }
   ],
   "source": [
    "#similarity of g1 with g2\n",
    "len(prot2peps['sp|Q9HCP0|KC1G1_HUMAN'].intersection(prot2peps['sp|P78368|KC1G2_HUMAN']))/len(prot2peps['sp|Q9HCP0|KC1G1_HUMAN'].union(prot2peps['sp|P78368|KC1G2_HUMAN']))"
   ]
  },
  {
   "cell_type": "code",
   "execution_count": 56,
   "metadata": {},
   "outputs": [
    {
     "data": {
      "text/plain": [
       "0.25210084033613445"
      ]
     },
     "execution_count": 56,
     "metadata": {},
     "output_type": "execute_result"
    }
   ],
   "source": [
    "#similarity of g1 with g3\n",
    "len(prot2peps['sp|Q9HCP0|KC1G1_HUMAN'].intersection(prot2peps['sp|Q9Y6M4|KC1G3_HUMAN']))/len(prot2peps['sp|Q9HCP0|KC1G1_HUMAN'].union(prot2peps['sp|Q9Y6M4|KC1G3_HUMAN']))"
   ]
  },
  {
   "cell_type": "code",
   "execution_count": 57,
   "metadata": {},
   "outputs": [
    {
     "data": {
      "text/plain": [
       "0.2773109243697479"
      ]
     },
     "execution_count": 57,
     "metadata": {},
     "output_type": "execute_result"
    }
   ],
   "source": [
    "#similarity of g2 with g3\n",
    "len(prot2peps['sp|P78368|KC1G2_HUMAN'].intersection(prot2peps['sp|Q9Y6M4|KC1G3_HUMAN']))/len(prot2peps['sp|P78368|KC1G2_HUMAN'].union(prot2peps['sp|Q9Y6M4|KC1G3_HUMAN']))"
   ]
  },
  {
   "cell_type": "code",
   "execution_count": 58,
   "metadata": {},
   "outputs": [],
   "source": [
    "## So ill say that around 0.25 jaccard index is where things look like the CK1Gs"
   ]
  },
  {
   "cell_type": "code",
   "execution_count": 109,
   "metadata": {},
   "outputs": [
    {
     "data": {
      "image/png": "[encoded data removed]",
      "text/plain": [
       "<Figure size 1080x720 with 1 Axes>"
      ]
     },
     "metadata": {
      "needs_background": "light"
     },
     "output_type": "display_data"
    }
   ],
   "source": [
    "#Make a histogram of the coeffs table:\n",
    "ax, fig = plt.subplots(figsize = (15,10))\n",
    "plt.hist(coeffs.flatten(),bins = 20)\n",
    "plt.yscale('log')\n",
    "plt.title('Tryptic Peptide Homology Across the Human Proteome',size=24)\n",
    "plt.xlabel('Jaccard Index of Tryptic Peptides',size=24)\n",
    "plt.ylabel('Number of Protein Pairs',size=24)\n",
    "plt.savefig('figures/hist1.png',dpi=256)"
   ]
  },
  {
   "cell_type": "code",
   "execution_count": 105,
   "metadata": {},
   "outputs": [
    {
     "data": {
      "image/png": "[encoded data removed]",
      "text/plain": [
       "<Figure size 1080x720 with 1 Axes>"
      ]
     },
     "metadata": {
      "needs_background": "light"
     },
     "output_type": "display_data"
    }
   ],
   "source": [
    "ax, fig = plt.subplots(figsize = (15,10))\n",
    "plt.hist(coeffs.flatten(),bins=20)\n",
    "plt.ylim((0,1500))\n",
    "plt.title('Tryptic Peptide Homology Across the Human Proteome',size=14)\n",
    "plt.xlabel('Jaccard Index of Tryptic Peptides',size=14)\n",
    "plt.ylabel('Number of Protein Pairs',size=14)\n",
    "plt.savefig('figures/hist2.png',dpi=256)"
   ]
  },
  {
   "cell_type": "code",
   "execution_count": 106,
   "metadata": {
    "scrolled": false
   },
   "outputs": [
    {
     "data": {
      "image/png": "[encoded data removed]",
      "text/plain": [
       "<Figure size 1080x720 with 1 Axes>"
      ]
     },
     "metadata": {
      "needs_background": "light"
     },
     "output_type": "display_data"
    }
   ],
   "source": [
    "ax, fig = plt.subplots(figsize = (15,10))\n",
    "plt.hist(coeffs.flatten(),bins=20)\n",
    "plt.xlim((0.20,1))\n",
    "plt.ylim((0,1200))\n",
    "plt.title('Tryptic Peptide Homology Across the Human Proteome',size=14)\n",
    "plt.xlabel('Jaccard Index of Tryptic Peptides',size=14)\n",
    "plt.ylabel('Number of Protein Pairs',size=14)\n",
    "plt.savefig('figures/hist3.png',dpi=256)"
   ]
  },
  {
   "cell_type": "code",
   "execution_count": 79,
   "metadata": {},
   "outputs": [],
   "source": [
    "import seaborn as sb"
   ]
  },
  {
   "cell_type": "code",
   "execution_count": 108,
   "metadata": {},
   "outputs": [
    {
     "ename": "KeyboardInterrupt",
     "evalue": "",
     "output_type": "error",
     "traceback": [
      "\u001b[0;31m---------------------------------------------------------------------------\u001b[0m",
      "\u001b[0;31mKeyboardInterrupt\u001b[0m                         Traceback (most recent call last)",
      "\u001b[0;32m<ipython-input-108-2d39923be967>\u001b[0m in \u001b[0;36m<module>\u001b[0;34m\u001b[0m\n\u001b[0;32m----> 1\u001b[0;31m \u001b[0msb\u001b[0m\u001b[0;34m.\u001b[0m\u001b[0mhistplot\u001b[0m\u001b[0;34m(\u001b[0m\u001b[0mcoeffs\u001b[0m\u001b[0;34m.\u001b[0m\u001b[0mflatten\u001b[0m\u001b[0;34m(\u001b[0m\u001b[0;34m)\u001b[0m\u001b[0;34m,\u001b[0m\u001b[0mbins\u001b[0m\u001b[0;34m=\u001b[0m\u001b[0;36m20\u001b[0m\u001b[0;34m,\u001b[0m\u001b[0mpalette\u001b[0m\u001b[0;34m=\u001b[0m\u001b[0;34m'viridis'\u001b[0m\u001b[0;34m,\u001b[0m\u001b[0mlog_scale\u001b[0m\u001b[0;34m=\u001b[0m\u001b[0;32mTrue\u001b[0m\u001b[0;34m)\u001b[0m\u001b[0;34m\u001b[0m\u001b[0;34m\u001b[0m\u001b[0m\n\u001b[0m",
      "\u001b[0;31mKeyboardInterrupt\u001b[0m: "
     ]
    }
   ],
   "source": [
    "sb.histplot(coeffs.flatten(),bins=20,palette='viridis',log_scale=True)"
   ]
  },
  {
   "cell_type": "code",
   "execution_count": 97,
   "metadata": {},
   "outputs": [],
   "source": [
    "coeffs_df = pd.DataFrame(coeffs.flatten())"
   ]
  },
  {
   "cell_type": "code",
   "execution_count": 98,
   "metadata": {},
   "outputs": [],
   "source": [
    "coeffs_df = coeffs_df.rename(columns = {0:'jaccard'})"
   ]
  },
  {
   "cell_type": "code",
   "execution_count": 99,
   "metadata": {},
   "outputs": [
    {
     "data": {
      "text/plain": [
       "1.1949550220372308e-05"
      ]
     },
     "execution_count": 99,
     "metadata": {},
     "output_type": "execute_result"
    }
   ],
   "source": [
    "len(coeffs_df[coeffs_df['jaccard'] > 0.25])/len(coeffs_df)"
   ]
  },
  {
   "cell_type": "code",
   "execution_count": 103,
   "metadata": {},
   "outputs": [
    {
     "data": {
      "text/html": [
       "<div>\n",
       "<style scoped>\n",
       "    .dataframe tbody tr th:only-of-type {\n",
       "        vertical-align: middle;\n",
       "    }\n",
       "\n",
       "    .dataframe tbody tr th {\n",
       "        vertical-align: top;\n",
       "    }\n",
       "\n",
       "    .dataframe thead th {\n",
       "        text-align: right;\n",
       "    }\n",
       "</style>\n",
       "<table border=\"1\" class=\"dataframe\">\n",
       "  <thead>\n",
       "    <tr style=\"text-align: right;\">\n",
       "      <th></th>\n",
       "      <th>jaccard</th>\n",
       "    </tr>\n",
       "  </thead>\n",
       "  <tbody>\n",
       "    <tr>\n",
       "      <th>288359</th>\n",
       "      <td>0.472973</td>\n",
       "    </tr>\n",
       "    <tr>\n",
       "      <th>301585</th>\n",
       "      <td>0.507042</td>\n",
       "    </tr>\n",
       "    <tr>\n",
       "      <th>305018</th>\n",
       "      <td>0.862069</td>\n",
       "    </tr>\n",
       "    <tr>\n",
       "      <th>1263212</th>\n",
       "      <td>0.450000</td>\n",
       "    </tr>\n",
       "    <tr>\n",
       "      <th>1486043</th>\n",
       "      <td>0.638298</td>\n",
       "    </tr>\n",
       "    <tr>\n",
       "      <th>...</th>\n",
       "      <td>...</td>\n",
       "    </tr>\n",
       "    <tr>\n",
       "      <th>415728598</th>\n",
       "      <td>0.800000</td>\n",
       "    </tr>\n",
       "    <tr>\n",
       "      <th>415729186</th>\n",
       "      <td>0.500000</td>\n",
       "    </tr>\n",
       "    <tr>\n",
       "      <th>415729322</th>\n",
       "      <td>0.636364</td>\n",
       "    </tr>\n",
       "    <tr>\n",
       "      <th>415812783</th>\n",
       "      <td>0.333333</td>\n",
       "    </tr>\n",
       "    <tr>\n",
       "      <th>415812953</th>\n",
       "      <td>0.333333</td>\n",
       "    </tr>\n",
       "  </tbody>\n",
       "</table>\n",
       "<p>4708 rows × 1 columns</p>\n",
       "</div>"
      ],
      "text/plain": [
       "            jaccard\n",
       "288359     0.472973\n",
       "301585     0.507042\n",
       "305018     0.862069\n",
       "1263212    0.450000\n",
       "1486043    0.638298\n",
       "...             ...\n",
       "415728598  0.800000\n",
       "415729186  0.500000\n",
       "415729322  0.636364\n",
       "415812783  0.333333\n",
       "415812953  0.333333\n",
       "\n",
       "[4708 rows x 1 columns]"
      ]
     },
     "execution_count": 103,
     "metadata": {},
     "output_type": "execute_result"
    }
   ],
   "source": [
    "coeffs_df[coeffs_df['jaccard'] > 0.27]"
   ]
  },
  {
   "cell_type": "code",
   "execution_count": null,
   "metadata": {},
   "outputs": [],
   "source": []
  }
 ],
 "metadata": {
  "kernelspec": {
   "display_name": "Python 3",
   "language": "python",
   "name": "python3"
  },
  "language_info": {
   "codemirror_mode": {
    "name": "ipython",
    "version": 3
   },
   "file_extension": ".py",
   "mimetype": "text/x-python",
   "name": "python",
   "nbconvert_exporter": "python",
   "pygments_lexer": "ipython3",
   "version": "3.8.5"
  }
 },
 "nbformat": 4,
 "nbformat_minor": 4
}
