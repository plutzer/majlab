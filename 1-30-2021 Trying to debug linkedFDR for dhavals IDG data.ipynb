{
 "cells": [
  {
   "cell_type": "code",
   "execution_count": 2,
   "metadata": {},
   "outputs": [],
   "source": [
    "import numpy as np\n",
    "import pandas as pd\n",
    "import networkx"
   ]
  },
  {
   "cell_type": "code",
   "execution_count": 11,
   "metadata": {},
   "outputs": [],
   "source": [
    "pathslist = ['/Users/plutzer/Box/CellBio-MajorLab/Separate PG files/1-15-2021-CDK10_PG.txt',\n",
    "'/Users/plutzer/Box/CellBio-MajorLab/Separate PG files/1-15-2021-CDK12_PG.txt',\n",
    "'/Users/plutzer/Box/CellBio-MajorLab/Separate PG files/1-15-2021-CDK13_PG.txt',\n",
    "'/Users/plutzer/Box/CellBio-MajorLab/Separate PG files/1-15-2021-CDK14_PG.txt',\n",
    "'/Users/plutzer/Box/CellBio-MajorLab/Separate PG files/1-15-2021-CDK15_PG.txt',\n",
    "'/Users/plutzer/Box/CellBio-MajorLab/Separate PG files/1-15-2021-CDK16_PG.txt',\n",
    "'/Users/plutzer/Box/CellBio-MajorLab/Separate PG files/1-15-2021-CDK17_PG.txt',\n",
    "'/Users/plutzer/Box/CellBio-MajorLab/Separate PG files/1-15-2021-CDK18_PG.txt',\n",
    "'/Users/plutzer/Box/CellBio-MajorLab/Separate PG files/1-15-2021-CDK19_PG.txt',\n",
    "'/Users/plutzer/Box/CellBio-MajorLab/Separate PG files/1-15-2021-CDKL1_PG.txt',\n",
    "'/Users/plutzer/Box/CellBio-MajorLab/Separate PG files/1-15-2021-CDKL2_PG.txt',\n",
    "'/Users/plutzer/Box/CellBio-MajorLab/Separate PG files/1-15-2021-CDKL3_PG.txt',\n",
    "'/Users/plutzer/Box/CellBio-MajorLab/Separate PG files/1-15-2021-CDKL4_PG.txt',\n",
    "'/Users/plutzer/Box/CellBio-MajorLab/Separate PG files/1-15-2021-nesDB_PG.txt',\n",
    "'/Users/plutzer/Box/CellBio-MajorLab/Separate PG files/1-15-2021-nlsDB_PG.txt',\n",
    "'/Users/plutzer/Box/CellBio-MajorLab/Separate PG files/1-15-2021-parentalDB_PG.txt',\n",
    "'/Users/plutzer/Box/CellBio-MajorLab/Separate PG files/1-15-2021-v5DB_PG.txt',\n",
    "'/Users/plutzer/Box/CellBio-MajorLab/Separate PG files/1-22-2021-BCKDK_PG.txt',\n",
    "'/Users/plutzer/Box/CellBio-MajorLab/Separate PG files/1-22-2021-BRSK1_PG.txt',\n",
    "'/Users/plutzer/Box/CellBio-MajorLab/Separate PG files/1-22-2021-BRSK2_PG.txt',\n",
    "'/Users/plutzer/Box/CellBio-MajorLab/Separate PG files/1-22-2021-CAMK1D_PG.txt',\n",
    "'/Users/plutzer/Box/CellBio-MajorLab/Separate PG files/1-22-2021-CAMK1G_PG.txt',\n",
    "'/Users/plutzer/Box/CellBio-MajorLab/Separate PG files/1-22-2021-CAMKK1_PG.txt',\n",
    "'/Users/plutzer/Box/CellBio-MajorLab/Separate PG files/1-22-2021-CAMKV_PG.txt',\n",
    "'/Users/plutzer/Box/CellBio-MajorLab/Separate PG files/1-22-2021-CDK2_PG.txt',\n",
    "'/Users/plutzer/Box/CellBio-MajorLab/Separate PG files/1-22-2021-CDK7_PG.txt',\n",
    "'/Users/plutzer/Box/CellBio-MajorLab/Separate PG files/1-22-2021-CLK4_PG.txt',\n",
    "'/Users/plutzer/Box/CellBio-MajorLab/Separate PG files/1-22-2021-DSYTK_PG.txt',\n",
    "'/Users/plutzer/Box/CellBio-MajorLab/Separate PG files/1-22-2021-DYRK1B_PG.txt',\n",
    "'/Users/plutzer/Box/CellBio-MajorLab/Separate PG files/1-22-2021-DYRK2_PG.txt',\n",
    "'/Users/plutzer/Box/CellBio-MajorLab/Separate PG files/1-22-2021-DYRK3_PG.txt',\n",
    "'/Users/plutzer/Box/CellBio-MajorLab/Separate PG files/1-22-2021-DYRK4_PG.txt',\n",
    "'/Users/plutzer/Box/CellBio-MajorLab/Separate PG files/1-29-2021-GSK3B_PG.txt',\n",
    "'/Users/plutzer/Box/CellBio-MajorLab/Separate PG files/1-22-2021-HIPK4_PG.txt',\n",
    "'/Users/plutzer/Box/CellBio-MajorLab/Separate PG files/1-23-2021-CLK3_PG.txt',\n",
    "'/Users/plutzer/Box/CellBio-MajorLab/Separate PG files/1-23-2021-HIPK3_PG.txt',\n",
    "'/Users/plutzer/Box/CellBio-MajorLab/Separate PG files/1-23-2021-PKMYT1_PG.txt',\n",
    "'/Users/plutzer/Box/CellBio-MajorLab/Separate PG files/1-23-2021-RIOK2_PG.txt',\n",
    "'/Users/plutzer/Box/CellBio-MajorLab/Separate PG files/1-23-2021-TLK2_PG.txt',\n",
    "'/Users/plutzer/Box/CellBio-MajorLab/Separate PG files/1-25-2021-ICK_PG.txt',\n",
    "'/Users/plutzer/Box/CellBio-MajorLab/Separate PG files/1-25-2021-KEAP1_PG.txt',\n",
    "'/Users/plutzer/Box/CellBio-MajorLab/Separate PG files/1-25-2021-LMTK2_PG.txt',\n",
    "'/Users/plutzer/Box/CellBio-MajorLab/Separate PG files/1-25-2021-PHKG1_PG.txt',\n",
    "'/Users/plutzer/Box/CellBio-MajorLab/Separate PG files/1-25-2021-PHKG2_PG.txt',\n",
    "'/Users/plutzer/Box/CellBio-MajorLab/Separate PG files/1-25-2021-PIP5K1A_PG.txt',\n",
    "'/Users/plutzer/Box/CellBio-MajorLab/Separate PG files/1-25-2021-PRPF4B_PG.txt',\n",
    "'/Users/plutzer/Box/CellBio-MajorLab/Separate PG files/1-25-2021-RIOK1_PG.txt',\n",
    "'/Users/plutzer/Box/CellBio-MajorLab/Separate PG files/1-25-2021-RIOK3_PG.txt',\n",
    "'/Users/plutzer/Box/CellBio-MajorLab/Separate PG files/1-25-2021-STK17A_PG.txt',\n",
    "'/Users/plutzer/Box/CellBio-MajorLab/Separate PG files/1-25-2021-STK19_PG.txt',\n",
    "'/Users/plutzer/Box/CellBio-MajorLab/Separate PG files/1-22-2021-MA-ADCK1_PG.txt',\n",
    "'/Users/plutzer/Box/CellBio-MajorLab/Separate PG files/1-29-2021-MA-CSNK1G1_PG.txt',\n",
    "'/Users/plutzer/Box/CellBio-MajorLab/Separate PG files/1-29-2021-MA-CSNK1G2_PG.txt',\n",
    "'/Users/plutzer/Box/CellBio-MajorLab/Separate PG files/1-29-2021-MA-CSNK1G3_PG.txt',\n",
    "'/Users/plutzer/Box/CellBio-MajorLab/Separate PG files/1-25-2021-MA-VRK2_PG.txt']"
   ]
  },
  {
   "cell_type": "code",
   "execution_count": 30,
   "metadata": {},
   "outputs": [],
   "source": [
    "def generate_linked_groups(groupedIDs):\n",
    "    '''\n",
    "        Takes a list of protein groups and generates linked protein groups based on shared proteins.\n",
    "        Generates an adjacency matrix for protein groups where:\n",
    "            0 = no shared proteins between groups\n",
    "            1 = shared proteins between groups\n",
    "        And then finds connected subgraphs for that network. Each subgraph is a set of linked groups.\n",
    "\n",
    "        groupedIDs: list of strings - protein IDs column from protein groups file. Proteins within a group should be separated by ';'\n",
    "        returns: list of lists of ints - each element is a list of indexes protein groups in a linked group\n",
    "    '''\n",
    "    adjMat = np.zeros((len(groupedIDs),len(groupedIDs))) #Initializing the adjacency matrix\n",
    "    \n",
    "    #Iterate over each protein group, and find other protein groups that contain the same proteins.\n",
    "    for group_index in range(len(groupedIDs)):\n",
    "        for protein in list(groupedIDs)[group_index].split(';'):\n",
    "            \n",
    "            # also in is a list of indexes of protein groups that share a protein with this group.\n",
    "            also_in  = list(np.where([protein in group.split(';') for group in groupedIDs])[0])\n",
    "            \n",
    "            # Iterate through also_in and update the adjacency matrix\n",
    "            for index in also_in:\n",
    "                if group_index != index:\n",
    "                    adjMat[group_index,index] = 1\n",
    "    \n",
    "    # Generate a list of indexes for component subgraphs\n",
    "    graph = networkx.from_numpy_matrix(adjMat)\n",
    "    return [list(graph.subgraph(c).copy().nodes()) for c in networkx.connected_components(graph)]"
   ]
  },
  {
   "cell_type": "code",
   "execution_count": null,
   "metadata": {},
   "outputs": [],
   "source": []
  },
  {
   "cell_type": "code",
   "execution_count": 13,
   "metadata": {},
   "outputs": [
    {
     "name": "stdout",
     "output_type": "stream",
     "text": [
      "Loaded /Users/plutzer/Box/CellBio-MajorLab/Separate PG files/1-15-2021-CDK10_PG.txt\n",
      "Loaded /Users/plutzer/Box/CellBio-MajorLab/Separate PG files/1-15-2021-CDK12_PG.txt\n",
      "Loaded /Users/plutzer/Box/CellBio-MajorLab/Separate PG files/1-15-2021-CDK13_PG.txt\n",
      "Loaded /Users/plutzer/Box/CellBio-MajorLab/Separate PG files/1-15-2021-CDK14_PG.txt\n",
      "Loaded /Users/plutzer/Box/CellBio-MajorLab/Separate PG files/1-15-2021-CDK15_PG.txt\n",
      "Loaded /Users/plutzer/Box/CellBio-MajorLab/Separate PG files/1-15-2021-CDK16_PG.txt\n",
      "Loaded /Users/plutzer/Box/CellBio-MajorLab/Separate PG files/1-15-2021-CDK17_PG.txt\n",
      "Loaded /Users/plutzer/Box/CellBio-MajorLab/Separate PG files/1-15-2021-CDK18_PG.txt\n",
      "Loaded /Users/plutzer/Box/CellBio-MajorLab/Separate PG files/1-15-2021-CDK19_PG.txt\n",
      "Loaded /Users/plutzer/Box/CellBio-MajorLab/Separate PG files/1-15-2021-CDKL1_PG.txt\n",
      "Loaded /Users/plutzer/Box/CellBio-MajorLab/Separate PG files/1-15-2021-CDKL2_PG.txt\n",
      "Loaded /Users/plutzer/Box/CellBio-MajorLab/Separate PG files/1-15-2021-CDKL3_PG.txt\n",
      "Loaded /Users/plutzer/Box/CellBio-MajorLab/Separate PG files/1-15-2021-CDKL4_PG.txt\n",
      "Loaded /Users/plutzer/Box/CellBio-MajorLab/Separate PG files/1-15-2021-nesDB_PG.txt\n",
      "Loaded /Users/plutzer/Box/CellBio-MajorLab/Separate PG files/1-15-2021-nlsDB_PG.txt\n",
      "Loaded /Users/plutzer/Box/CellBio-MajorLab/Separate PG files/1-15-2021-parentalDB_PG.txt\n",
      "Loaded /Users/plutzer/Box/CellBio-MajorLab/Separate PG files/1-15-2021-v5DB_PG.txt\n",
      "Loaded /Users/plutzer/Box/CellBio-MajorLab/Separate PG files/1-22-2021-BCKDK_PG.txt\n",
      "Loaded /Users/plutzer/Box/CellBio-MajorLab/Separate PG files/1-22-2021-BRSK1_PG.txt\n",
      "Loaded /Users/plutzer/Box/CellBio-MajorLab/Separate PG files/1-22-2021-BRSK2_PG.txt\n",
      "Loaded /Users/plutzer/Box/CellBio-MajorLab/Separate PG files/1-22-2021-CAMK1D_PG.txt\n",
      "Loaded /Users/plutzer/Box/CellBio-MajorLab/Separate PG files/1-22-2021-CAMK1G_PG.txt\n",
      "Loaded /Users/plutzer/Box/CellBio-MajorLab/Separate PG files/1-22-2021-CAMKK1_PG.txt\n",
      "Loaded /Users/plutzer/Box/CellBio-MajorLab/Separate PG files/1-22-2021-CAMKV_PG.txt\n",
      "Loaded /Users/plutzer/Box/CellBio-MajorLab/Separate PG files/1-22-2021-CDK2_PG.txt\n",
      "Loaded /Users/plutzer/Box/CellBio-MajorLab/Separate PG files/1-22-2021-CDK7_PG.txt\n",
      "Loaded /Users/plutzer/Box/CellBio-MajorLab/Separate PG files/1-22-2021-CLK4_PG.txt\n",
      "Loaded /Users/plutzer/Box/CellBio-MajorLab/Separate PG files/1-22-2021-DSYTK_PG.txt\n",
      "Loaded /Users/plutzer/Box/CellBio-MajorLab/Separate PG files/1-22-2021-DYRK1B_PG.txt\n",
      "Loaded /Users/plutzer/Box/CellBio-MajorLab/Separate PG files/1-22-2021-DYRK2_PG.txt\n",
      "Loaded /Users/plutzer/Box/CellBio-MajorLab/Separate PG files/1-22-2021-DYRK3_PG.txt\n",
      "Loaded /Users/plutzer/Box/CellBio-MajorLab/Separate PG files/1-22-2021-DYRK4_PG.txt\n",
      "Loaded /Users/plutzer/Box/CellBio-MajorLab/Separate PG files/1-29-2021-GSK3B_PG.txt\n",
      "Loaded /Users/plutzer/Box/CellBio-MajorLab/Separate PG files/1-22-2021-HIPK4_PG.txt\n",
      "Loaded /Users/plutzer/Box/CellBio-MajorLab/Separate PG files/1-23-2021-CLK3_PG.txt\n",
      "Loaded /Users/plutzer/Box/CellBio-MajorLab/Separate PG files/1-23-2021-HIPK3_PG.txt\n",
      "Loaded /Users/plutzer/Box/CellBio-MajorLab/Separate PG files/1-23-2021-PKMYT1_PG.txt\n",
      "Loaded /Users/plutzer/Box/CellBio-MajorLab/Separate PG files/1-23-2021-RIOK2_PG.txt\n",
      "Loaded /Users/plutzer/Box/CellBio-MajorLab/Separate PG files/1-23-2021-TLK2_PG.txt\n",
      "Loaded /Users/plutzer/Box/CellBio-MajorLab/Separate PG files/1-25-2021-ICK_PG.txt\n",
      "Loaded /Users/plutzer/Box/CellBio-MajorLab/Separate PG files/1-25-2021-KEAP1_PG.txt\n",
      "Loaded /Users/plutzer/Box/CellBio-MajorLab/Separate PG files/1-25-2021-LMTK2_PG.txt\n",
      "Loaded /Users/plutzer/Box/CellBio-MajorLab/Separate PG files/1-25-2021-PHKG1_PG.txt\n",
      "Loaded /Users/plutzer/Box/CellBio-MajorLab/Separate PG files/1-25-2021-PHKG2_PG.txt\n",
      "Loaded /Users/plutzer/Box/CellBio-MajorLab/Separate PG files/1-25-2021-PIP5K1A_PG.txt\n",
      "Loaded /Users/plutzer/Box/CellBio-MajorLab/Separate PG files/1-25-2021-PRPF4B_PG.txt\n",
      "Loaded /Users/plutzer/Box/CellBio-MajorLab/Separate PG files/1-25-2021-RIOK1_PG.txt\n",
      "Loaded /Users/plutzer/Box/CellBio-MajorLab/Separate PG files/1-25-2021-RIOK3_PG.txt\n",
      "Loaded /Users/plutzer/Box/CellBio-MajorLab/Separate PG files/1-25-2021-STK17A_PG.txt\n",
      "Loaded /Users/plutzer/Box/CellBio-MajorLab/Separate PG files/1-25-2021-STK19_PG.txt\n",
      "Loaded /Users/plutzer/Box/CellBio-MajorLab/Separate PG files/1-22-2021-MA-ADCK1_PG.txt\n",
      "Loaded /Users/plutzer/Box/CellBio-MajorLab/Separate PG files/1-29-2021-MA-CSNK1G1_PG.txt\n",
      "Loaded /Users/plutzer/Box/CellBio-MajorLab/Separate PG files/1-29-2021-MA-CSNK1G2_PG.txt\n",
      "Loaded /Users/plutzer/Box/CellBio-MajorLab/Separate PG files/1-29-2021-MA-CSNK1G3_PG.txt\n",
      "Loaded /Users/plutzer/Box/CellBio-MajorLab/Separate PG files/1-25-2021-MA-VRK2_PG.txt\n"
     ]
    }
   ],
   "source": [
    "combined_df = pd.read_csv(pathslist[0],delimiter = '\\t')\n",
    "print(\"Loaded \" + pathslist[0])\n",
    "\n",
    "for i in range(1,len(pathslist)):\n",
    "    new_df = pd.read_csv(pathslist[i],delimiter = '\\t')\n",
    "    new_df = new_df[new_df['Score'] > 0] #Filter out any rows where the protein was IDed by site.\n",
    "    combined_df = combined_df.merge(new_df,how='outer',on='Protein IDs')\n",
    "    print(\"Loaded \" + pathslist[i])"
   ]
  },
  {
   "cell_type": "code",
   "execution_count": 14,
   "metadata": {},
   "outputs": [],
   "source": [
    "#Save out the combined df\n",
    "combined_df.to_csv('combined_df.csv')"
   ]
  },
  {
   "cell_type": "code",
   "execution_count": 22,
   "metadata": {},
   "outputs": [],
   "source": [
    "#Set score column to be max of scores\n",
    "score_columns = combined_df.columns[['Score' in colname for colname in combined_df.columns]]\n",
    "combined_df['Score'] = combined_df[score_columns].max(axis=1)"
   ]
  },
  {
   "cell_type": "code",
   "execution_count": 23,
   "metadata": {},
   "outputs": [],
   "source": [
    "#Create the correct reverse column\n",
    "reverse_columns = combined_df.columns[['Reverse' in colname for colname in combined_df.columns]]\n",
    "combined_df['Reverse'] = ['+' in item for item in list(combined_df[reverse_columns].astype('str').agg(' '.join,axis=1))]"
   ]
  },
  {
   "cell_type": "code",
   "execution_count": 24,
   "metadata": {},
   "outputs": [],
   "source": [
    "decoys_combined = combined_df[combined_df['Reverse'] == True]"
   ]
  },
  {
   "cell_type": "code",
   "execution_count": 25,
   "metadata": {},
   "outputs": [
    {
     "data": {
      "text/plain": [
       "9326"
      ]
     },
     "execution_count": 25,
     "metadata": {},
     "output_type": "execute_result"
    }
   ],
   "source": [
    "len(combined_df)"
   ]
  },
  {
   "cell_type": "code",
   "execution_count": 26,
   "metadata": {},
   "outputs": [
    {
     "data": {
      "text/plain": [
       "485"
      ]
     },
     "execution_count": 26,
     "metadata": {},
     "output_type": "execute_result"
    }
   ],
   "source": [
    "len(decoys_combined)"
   ]
  },
  {
   "cell_type": "code",
   "execution_count": 27,
   "metadata": {},
   "outputs": [],
   "source": [
    "#write out decoys combined to a csv to look at...\n",
    "decoys_combined.to_csv('decoys.csv')\n",
    "## NO DECOYS HAVE LARGE SCORES!"
   ]
  },
  {
   "cell_type": "code",
   "execution_count": 28,
   "metadata": {},
   "outputs": [
    {
     "name": "stdout",
     "output_type": "stream",
     "text": [
      "Fixed columns.\n"
     ]
    }
   ],
   "source": [
    "#Create the correct contaminant column\n",
    "contam_columns = combined_df.columns[['Potential contaminant' in colname for colname in combined_df.columns]]\n",
    "combined_df['Potential contaminant'] = ['+' in item for item in list(combined_df[reverse_columns].astype('str').agg(' '.join,axis=1))]\n",
    "\n",
    "#Create the correct sequence length column\n",
    "seq_columns = combined_df.columns[['Sequence length' in colname for colname in combined_df.columns]]\n",
    "combined_df['Sequence length'] = combined_df[seq_columns].max(axis=1) #These all end up being the same so not an issue.\n",
    "\n",
    "# Adding this so my code plays nice with Dennis' proteinGroups parser (I've already filtered these)\n",
    "combined_df['Only identified by site'] = ['' for item in range(len(combined_df))]\n",
    "print(\"Fixed columns.\")\n",
    "\n",
    "##Filter out any row where the protein group was identified only by site. (corresponding to -2 scores)\n",
    "combined_df = combined_df[combined_df['Score'] > 0]"
   ]
  },
  {
   "cell_type": "code",
   "execution_count": 46,
   "metadata": {},
   "outputs": [
    {
     "name": "stdout",
     "output_type": "stream",
     "text": [
      "Generating linkage groups.\n"
     ]
    }
   ],
   "source": [
    "print(\"Generating linkage groups.\")\n",
    "# Generate a list of linked protein groups for this file using the protein IDs column.\n",
    "linked_groups = generate_linked_groups(combined_df['Protein IDs'])"
   ]
  },
  {
   "cell_type": "code",
   "execution_count": 48,
   "metadata": {},
   "outputs": [
    {
     "name": "stdout",
     "output_type": "stream",
     "text": [
      "Generating scores and FDRs for linkage groups.\n"
     ]
    }
   ],
   "source": [
    "func = np.max\n",
    "print(\"Generating scores and FDRs for linkage groups.\")\n",
    "# Get a score for each linked group. This is a list with indexes corresponing to linked groups.\n",
    "linked_scores = [func(list(combined_df.iloc[indexes]['Score'])) for indexes in linked_groups]\n",
    "\n",
    "# Denote whether each linked group is a decoy. This is a boolean list, same indexes. Use Reverse column...\n",
    "linked_decoys = []\n",
    "for indexes in linked_groups:\n",
    "    boolval = False\n",
    "    indexes_subset = combined_df.iloc[indexes]\n",
    "    if sum(indexes_subset['Reverse']) != 0:\n",
    "        boolval = True\n",
    "    linked_decoys.append(boolval)\n",
    "# Im retarded linked_decoys = list(combined_df['Reverse'])"
   ]
  },
  {
   "cell_type": "code",
   "execution_count": 49,
   "metadata": {},
   "outputs": [
    {
     "data": {
      "text/plain": [
       "6904"
      ]
     },
     "execution_count": 49,
     "metadata": {},
     "output_type": "execute_result"
    }
   ],
   "source": [
    "len(linked_groups)"
   ]
  },
  {
   "cell_type": "code",
   "execution_count": 50,
   "metadata": {},
   "outputs": [
    {
     "data": {
      "text/plain": [
       "6904"
      ]
     },
     "execution_count": 50,
     "metadata": {},
     "output_type": "execute_result"
    }
   ],
   "source": [
    "len(linked_scores)"
   ]
  },
  {
   "cell_type": "code",
   "execution_count": 51,
   "metadata": {},
   "outputs": [
    {
     "data": {
      "text/plain": [
       "6904"
      ]
     },
     "execution_count": 51,
     "metadata": {},
     "output_type": "execute_result"
    }
   ],
   "source": [
    "len(linked_decoys)"
   ]
  },
  {
   "cell_type": "code",
   "execution_count": 44,
   "metadata": {},
   "outputs": [
    {
     "data": {
      "text/plain": [
       "0"
      ]
     },
     "execution_count": 44,
     "metadata": {},
     "output_type": "execute_result"
    }
   ],
   "source": [
    "np.sum(combined_df.iloc[[7548, 5443, 5251, 6821, 7, 1265, 7767, 7608, 1276, 8445, 2430]]['Reverse'])"
   ]
  },
  {
   "cell_type": "code",
   "execution_count": 45,
   "metadata": {},
   "outputs": [
    {
     "name": "stdout",
     "output_type": "stream",
     "text": [
      "spice\n"
     ]
    }
   ],
   "source": [
    "if 4!=0:\n",
    "    print('spice')"
   ]
  },
  {
   "cell_type": "code",
   "execution_count": null,
   "metadata": {},
   "outputs": [],
   "source": []
  }
 ],
 "metadata": {
  "kernelspec": {
   "display_name": "Python 3",
   "language": "python",
   "name": "python3"
  },
  "language_info": {
   "codemirror_mode": {
    "name": "ipython",
    "version": 3
   },
   "file_extension": ".py",
   "mimetype": "text/x-python",
   "name": "python",
   "nbconvert_exporter": "python",
   "pygments_lexer": "ipython3",
   "version": "3.8.5"
  }
 },
 "nbformat": 4,
 "nbformat_minor": 4
}
