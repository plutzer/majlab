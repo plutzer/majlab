{
 "cells": [
  {
   "cell_type": "code",
   "execution_count": 1,
   "metadata": {},
   "outputs": [],
   "source": [
    "import pandas as pd\n",
    "import numpy as np"
   ]
  },
  {
   "cell_type": "code",
   "execution_count": 4,
   "metadata": {},
   "outputs": [
    {
     "name": "stderr",
     "output_type": "stream",
     "text": [
      "/anaconda3/lib/python3.6/site-packages/IPython/core/interactiveshell.py:3072: DtypeWarning: Columns (7) have mixed types.Specify dtype option on import or set low_memory=False.\n",
      "  interactivity=interactivity, compiler=compiler, result=result)\n",
      "/anaconda3/lib/python3.6/site-packages/IPython/core/interactiveshell.py:3072: DtypeWarning: Columns (5,1083,1084) have mixed types.Specify dtype option on import or set low_memory=False.\n",
      "  interactivity=interactivity, compiler=compiler, result=result)\n"
     ]
    }
   ],
   "source": [
    "## Lets see if we can import straight from the box folder\n",
    "all30_unique_msp = pd.read_csv('/Users/plutzer/Box/CellBio-MajorLab/Users/Dhaval/Projects/Dark kinome project/MS data searches/IDG/MiniTurbo-TurboID/20200925 30DK BAITS_uniquePeptides/modificationSpecificPeptides.txt',delimiter = '\\t')\n",
    "all30_unique_groups = pd.read_csv('/Users/plutzer/Box/CellBio-MajorLab/Users/Dhaval/Projects/Dark kinome project/MS data searches/IDG/MiniTurbo-TurboID/20200925 30DK BAITS_uniquePeptides/proteinGroups.txt',delimiter = '\\t')\n",
    "all30_razor_unique_msp = pd.read_csv('/Users/plutzer/Box/CellBio-MajorLab/Users/Dhaval/Projects/Dark kinome project/MS data searches/IDG/MiniTurbo-TurboID/20201028 All30 BAITS_Razor/modificationSpecificPeptides.txt',delimiter = '\\t')\n",
    "all30_razor_unique_groups = pd.read_csv('/Users/plutzer/Box/CellBio-MajorLab/Users/Dhaval/Projects/Dark kinome project/MS data searches/IDG/MiniTurbo-TurboID/20201028 All30 BAITS_Razor/proteinGroups.txt',delimiter = '\\t')"
   ]
  },
  {
   "cell_type": "code",
   "execution_count": 11,
   "metadata": {},
   "outputs": [
    {
     "name": "stdout",
     "output_type": "stream",
     "text": [
      "6441\n",
      "6412\n",
      "1095\n",
      "1095\n"
     ]
    }
   ],
   "source": [
    "# There are more protein groups in the razor+unique analysis\n",
    "print(len(all30_razor_unique_groups))\n",
    "print(len(all30_unique_groups))\n",
    "#\n",
    "print(len(all30_razor_unique_groups.columns))\n",
    "print(len(all30_unique_groups.columns))"
   ]
  },
  {
   "cell_type": "code",
   "execution_count": 19,
   "metadata": {},
   "outputs": [
    {
     "data": {
      "text/plain": [
       "array(['CON__tr|K7X1Z1|K7X1Z1_MYCHR', 'CON__tr|K7X2P4|K7X2P4_MYCHR',\n",
       "       'CON__tr|K7X374|K7X374_MYCHR', 'CON__tr|K7X390|K7X390_MYCHR',\n",
       "       'CON__tr|K7X3J0|K7X3J0_MYCHR', 'CON__tr|K7X804|K7X804_MYCHR',\n",
       "       'CON__tr|K7X838|K7X838_MYCHR', 'CON__tr|K7X844|K7X844_MYCHR',\n",
       "       'CON__tr|K7X8N3|K7X8N3_MYCHR', 'CON__tr|K7X8S8|K7X8S8_MYCHR',\n",
       "       'CON__tr|K7X8U9|K7X8U9_MYCHR', 'CON__tr|K7X8V6|K7X8V6_MYCHR',\n",
       "       'CON__tr|K7X8X7|K7X8X7_MYCHR', 'CON__tr|K7X928|K7X928_MYCHR',\n",
       "       'CON__tr|K7X973|K7X973_MYCHR', 'CON__tr|K7X9F5|K7X9F5_MYCHR',\n",
       "       'CON__tr|K7X9J5|K7X9J5_MYCHR', 'CON__tr|K7XKN1|K7XKN1_MYCHR',\n",
       "       'CON__tr|K7XKP6|K7XKP6_MYCHR', 'CON__tr|K7XLI1|K7XLI1_MYCHR',\n",
       "       'CON__tr|K7XLM4|K7XLM4_MYCHR', 'CON__tr|K7XLM7|K7XLM7_MYCHR',\n",
       "       'CON__tr|K7XLV2|K7XLV2_MYCHR', 'CON__tr|K7XM09|K7XM09_MYCHR',\n",
       "       'CON__tr|K7XXZ1|K7XXZ1_MYCHR', 'CON__tr|K7XY05|K7XY05_MYCHR',\n",
       "       'CON__tr|K7XY55|K7XY55_MYCHR', 'CON__tr|K7XYV0|K7XYV0_MYCHR',\n",
       "       'CON__tr|K7XYY0|K7XYY0_MYCHR', 'CON__tr|K7XZ33|K7XZ33_MYCHR',\n",
       "       'CON__tr|K7XZ58|K7XZ58_MYCHR', 'CON__tr|K7XZ65|K7XZ65_MYCHR',\n",
       "       'CON__tr|K7XZ94|K7XZ94_MYCHR', 'O14795;O14795-2;Q8NB66',\n",
       "       'O15530;O15530-4;Q6A1A2;O15530-5;O15530-3;O15530-2',\n",
       "       'O43353;O43353-2', 'O60256;O60256-3;O60256-4;O60256-2',\n",
       "       'O60271-4;O60271-2;O60271-5', 'O60271-9',\n",
       "       'O75128;O75128-2;O75128-6;O75128-3;O75128-7', 'O75496',\n",
       "       'O94832;B0I1T2-2', 'O94991;O94991-2',\n",
       "       'O95359-3;O95359;O95359-6;O95359-1;O95359-5;O95359-2',\n",
       "       'O96013;O96013-2;O96013-4;O96013-3;Q9NQU5;Q9P286;Q9NQU5-2',\n",
       "       'P04114',\n",
       "       'P05023;P05023-4;P05023-3;P05023-2;P13637;P13637-2;P13637-3;P50993;Q13733',\n",
       "       'P18858;P18858-3;P18858-2', 'P25054-2',\n",
       "       'P25054;P25054-3;O95996;O95996-2;O95996-3',\n",
       "       'P25685;P25685-2;Q9UDY4',\n",
       "       'P25705;P25705-2;P25705-3;CON__tr|K7XM32|K7XM32_MYCHR',\n",
       "       'P28799;P28799-3;P28799-2', 'P29317;P29317-2',\n",
       "       'P30460;P30480;P30479;P18463;P30462;P01889;P30475;P30466;Q29836;Q29718;Q04826;P03989;P30487;P30483;P30461;P30486;Q31610;P30488;P30481;P13747',\n",
       "       'P30838', 'P31483;P31483-2;P31483-3', 'P33316-2;P33316', 'P37837',\n",
       "       'P40425;Q9BYU1', 'P43629;P43629-2',\n",
       "       'P51648;P51648-2;P43353;P48448;P43353-2', 'P52435;Q9GZM3;Q9H1A7',\n",
       "       'P53609;P53609-2', 'P60900;P60900-2;P60900-3', 'Q01085;Q01085-2',\n",
       "       'Q02224;Q02224-3', 'Q05209-3', 'Q05209;Q05209-2',\n",
       "       'Q0JRZ9;Q0JRZ9-3', 'Q0VF96;Q0VF96-2', 'Q12866;P30530;P30530-2',\n",
       "       'Q13330-2', 'Q13330-3;Q13330', 'Q13490;Q13490-2;Q13489',\n",
       "       'Q13510;Q13510-2', 'Q14153;Q14153-2',\n",
       "       'Q14680;Q14680-7;Q14680-8;Q14680-2;Q14680-5;Q14680-4;Q14680-3',\n",
       "       'Q14934;Q14934-21;Q14934-3;Q14934-4;Q14934-5;Q14934-6;Q14934-7;Q14934-8;Q14934-9;Q14934-10;Q14934-12;Q14934-11;Q14934-13;Q14934-14;Q14934-15;Q14934-16;Q14934-17;Q14934-18;Q14934-19;Q14934-20;Q14934-2',\n",
       "       'Q15165;Q15165-3;Q15165-1',\n",
       "       'Q15418;Q15418-2;Q15418-4;Q15418-3;Q15349;Q15349-3;Q15349-2;O15021;O15021-2;O15021-3;O15021-6',\n",
       "       'Q15431', 'Q16566', 'Q4AC94;Q4AC94-1;Q4AC94-3;Q4AC94-2;Q4AC94-4',\n",
       "       'Q4ADV7;Q4ADV7-2;Q4ADV7-3',\n",
       "       'Q4KWH8-2;Q4KWH8;Q4KWH8-3;Q4KWH8-4;O75038;O75038-2;REV__CON__tr|K7X908|K7X908_MYCHR;O75038-4;O75038-3',\n",
       "       'Q5K4L6;Q5K4L6-2;Q5K4L6-3',\n",
       "       'Q5VST9;Q5VST9-2;Q5VST9-6;Q5VST9-3;Q5VST9-5',\n",
       "       'Q6DN90;Q6DN90-2;Q5JU85;Q5JU85-3;Q9UPP2;Q9UPP2-2', 'Q6MZP7-3',\n",
       "       'Q6MZP7;Q6MZP7-2;Q6MZP7-4;Q6MZP7-5',\n",
       "       'Q6N043;Q6N043-2;Q6N043-3;Q6N043-5;Q6N043-4', 'Q6P444',\n",
       "       'Q7RTP6;Q7RTP6-2;Q7RTP6-4;Q7RTP6-3;Q7RTP6-5',\n",
       "       'Q7Z6Z7-3;Q7Z6Z7;Q7Z6Z7-2',\n",
       "       'Q86YA3;Q86YA3-4;Q86YA3-5;Q86YA3-6;Q86YA3-3;Q86YA3-2;Q86YA3-7',\n",
       "       'Q8IVL1;Q8IVL1-2;Q8IVL1-4;Q8IVL1-8;Q8IVL1-9;Q8IVL1-10;Q8IVL1-13;Q8IVL1-12;Q8IVL1-11;Q8IVL1-3',\n",
       "       'Q8IWK6;Q8IWK6-2', 'Q8NCB2-2', 'Q8NCB2;Q8NCB2-3',\n",
       "       'Q8NFA0;P35125;Q8NFA0-2;P35125-2', 'Q8TAP6;Q8TAP6-2',\n",
       "       'Q8TEW0;Q8TEW0-2;Q8TEW0-4;Q8TEW0-8;Q8TEW0-10',\n",
       "       'Q8WXX7;Q8WXX7-2;Q8WXX7-5', 'Q8WZ74', 'Q92817;A8MZ36',\n",
       "       'Q96EZ8;Q96EZ8-2;Q96EZ8-4;Q96EZ8-3',\n",
       "       'Q96J02;Q96J02-2;Q96J02-3;Q9H0M0;Q9H0M0-6;Q9H0M0-3',\n",
       "       'Q96JN8;Q96JN8-2',\n",
       "       'Q96KG9;Q96KG9-2;Q96KG9-3;Q96KG9-5;Q96KG9-4;Q96KG9-6',\n",
       "       'Q96NW7;Q96NW7-2', 'Q96PE3;Q96PE3-4;Q96PE3-2;Q96PE3-3',\n",
       "       'Q96QU8;Q96QU8-2',\n",
       "       'Q96RL7;Q96RL7-2;Q96RL7-4;Q96RL7-3;REV__CON__tr|K7XKY6|K7XKY6_MYCHR',\n",
       "       'Q96ST8;Q96ST8-2;Q96ST8-3',\n",
       "       'Q99755;Q99755-2;Q99755-3;Q99755-4;O60331;O14986;O14986-3;O14986-2;O60331-4;O60331-2;O60331-3',\n",
       "       'Q99973;Q99973-2', 'Q9BWV3', 'Q9BXW6;Q9BXW6-2;Q9BXW6-4',\n",
       "       'Q9BYP7;Q9BYP7-4;Q9BYP7-2;Q9BYP7-3', 'Q9BZD4', 'Q9GZM3-2',\n",
       "       'Q9H0Z9;Q9BX46;Q9H0Z9-2', 'Q9H8V3-2', 'Q9H8V3;Q9H8V3-4;Q9H8V3-3',\n",
       "       'Q9HCC0;Q9HCC0-2', 'Q9HD20;Q9HD20-2;Q9HD20-3',\n",
       "       'Q9NR12;Q9NR12-2;Q9NR12-6;Q9NR12-3;Q9NR12-5;Q9NR12-4',\n",
       "       'Q9NVI7-2;Q9NVI7;Q9NVI7-3',\n",
       "       'Q9NVU0;Q9NVU0-3;Q9NVU0-2;Q9NVU0-5;Q9NVU0-4',\n",
       "       'Q9NXD2;Q9NXD2-3;Q9NXD2-2', 'Q9P2P6', 'Q9P2W3', 'Q9UGH3;Q9UGH3-2',\n",
       "       'Q9UKE5;Q9UKE5-2;Q9UKE5-5;Q9UKE5-3;Q9UKE5-6;Q9UKE5-4;Q9UKE5-8;Q9UKE5-7',\n",
       "       'Q9ULU4-16;Q9ULU4-13;Q9ULU4-9;Q9ULU4-19;Q9ULU4-7;Q9ULU4-11;Q9ULU4-12;Q9ULU4-8;Q9ULU4-21;Q9ULU4-14;Q9ULU4-22;Q9ULU4-20;Q9ULU4-5;Q9ULU4;Q9ULU4-23;Q9ULU4-17;Q9ULU4-10;Q9ULU4-15;Q9ULU4-4;Q9ULU4-18;Q9ULU4-2',\n",
       "       'Q9Y250;Q9Y250-2;Q9Y250-5;Q9Y250-4;Q9Y250-3;Q9Y250-6;Q9Y250-7',\n",
       "       'Q9Y2H2;Q9Y2H2-4;Q9Y2H2-2', 'Q9Y2J2-2;Q9Y2J2;Q9Y2J2-3', 'Q9Y2J2-4',\n",
       "       'Q9Y2V7;Q9Y2V7-2', 'REV__A0A0B4J237',\n",
       "       'REV__CON__tr|K7XYH1|K7XYH1_MYCHR', 'REV__O43303-2;REV__O43303',\n",
       "       'REV__O43572', 'REV__O43781;REV__O43781-2',\n",
       "       'REV__O75367-2;REV__O75367-3;REV__O75367',\n",
       "       'REV__P33527-8;REV__P33527-6;REV__P33527-7;REV__P33527-5;REV__P33527-4;REV__P33527-2;REV__P33527-3;REV__P33527;REV__P33527-9',\n",
       "       'REV__P48553',\n",
       "       'REV__Q12955;REV__Q12955-7;REV__Q12955-5;REV__Q12955-4',\n",
       "       'REV__Q14BN4-2;REV__Q14BN4-3;REV__Q14BN4;REV__Q14BN4-8;REV__Q14BN4-5;REV__Q14BN4-4;REV__Q14BN4-7;REV__Q14BN4-6',\n",
       "       'REV__Q5TF21',\n",
       "       'REV__Q63HN8;REV__Q63HN8-4;REV__Q63HN8-6;REV__Q63HN8-5',\n",
       "       'REV__Q86YA3;REV__Q86YA3-7;REV__Q86YA3-2;REV__Q86YA3-3;REV__Q86YA3-6;REV__Q86YA3-5;REV__Q86YA3-4',\n",
       "       'REV__Q8TDQ0-2;REV__Q8TDQ0',\n",
       "       'REV__Q8WXH0;REV__Q8WXH0-2;REV__Q8WXH0-7;REV__Q8WXH0-10;REV__Q8WXH0-4;REV__Q8WXH0-3;REV__Q8WXH0-13',\n",
       "       'REV__Q96SF7-2;REV__Q96SF7', 'REV__Q99973-2;REV__Q99973',\n",
       "       'REV__Q9H165-6;REV__Q9C0K0-2;REV__Q9H165;REV__Q9C0K0',\n",
       "       'REV__Q9UFH2;REV__Q9UFH2-4'], dtype=object)"
      ]
     },
     "execution_count": 19,
     "metadata": {},
     "output_type": "execute_result"
    }
   ],
   "source": [
    "# There are a whole bunch of protein groups in the razor data that are absent from the unique data\n",
    "np.setdiff1d(all30_razor_unique_groups['Protein IDs'], all30_unique_groups['Protein IDs'])"
   ]
  },
  {
   "cell_type": "code",
   "execution_count": 20,
   "metadata": {},
   "outputs": [
    {
     "name": "stdout",
     "output_type": "stream",
     "text": [
      "73417\n",
      "73401\n"
     ]
    }
   ],
   "source": [
    "print(len(all30_razor_unique_msp['Sequence']))\n",
    "print(len(all30_unique_msp['Sequence']))"
   ]
  },
  {
   "cell_type": "code",
   "execution_count": 22,
   "metadata": {},
   "outputs": [
    {
     "name": "stdout",
     "output_type": "stream",
     "text": [
      "553\n"
     ]
    },
    {
     "data": {
      "text/plain": [
       "array(['AAATLTSKLYSLLFRR', 'AAEQWLILEGAQNGSVAMSGDPAWAVATVAASR',\n",
       "       'AAIAECEEVRR', 'AAPGAGDAAAGSGAEFAGGDGAAR', 'AAQLVDKDSTFLSTLEHHLSR',\n",
       "       'ADGEQDGAAGSMDASTQGLLEGIGLDGDTLAPMETDEPTASDSKGK', 'ADLQSTFSGGR',\n",
       "       'ADLVGLHPIQEK', 'ADSGLREPQEDSQK', 'ADYDNLVLDYEQLRTEKEEMELK',\n",
       "       'AEALINQLEK', 'AEVPLVR', 'AFEPVLVR',\n",
       "       'AFLEHLQEPEPLPGQVCSTFTLCLHYRNQR', 'AFPSHSESSIR', 'AFVEATFQR',\n",
       "       'AGMAALVLR', 'AGYLSPAAYLYVEEQEYLQAYEDVLER', 'AIATNETQGFAK',\n",
       "       'AIEIEEIPFSVVK', 'AIINLIESQGAVVHK', 'AKSEVGEAEFLASHVIR',\n",
       "       'ALDLLNNK', 'ALEGMSKRK', 'ALESLMTEFFHDCTTNERKR',\n",
       "       'ALFAYQPTENIVLPEDPDKEHK', 'ALNNVSVEIK', 'ALQEGQPEEDETDDRR',\n",
       "       'ALSTFFVENSLR', 'AMLEPENTPFK', 'APEDAAGAAAEAAK',\n",
       "       'APGMEGTAALHGDSPAR', 'APHQVPVQSEK', 'AQVADAFLSK',\n",
       "       'ARDDGQADSEVLGECAR', 'ASEDGEVVFVDSK', 'ASEEASLR',\n",
       "       'ASFHTIRYDFKPASIDTSCEGELQVGK', 'ASLESLIYYK', 'ASPTSTEEEQVMLR',\n",
       "       'ASQNRDPAATSVAAAR', 'ASSEGGTIIFSSR', 'ASSQEVAAPELLYLR',\n",
       "       'ATASHLSQALQAALQDYELQADTYR', 'ATIDSVEYLGK', 'AVITVPAYFNNAQR',\n",
       "       'AVPAECEGLTK', 'AWTALLSASGPGGR', 'AYEIINR', 'CFSYLPISPTFVGYTWK',\n",
       "       'CLLEMMEDKYQYTK', 'CTEDIMMFTDYVGDGRR', 'DADFIVITAGR',\n",
       "       'DADVIIGPDAR', 'DALSDFFEVESELGR', 'DCQFPEASPATLPVQPAELCPR',\n",
       "       'DCWMIQSVTLIVQSPHGAVVWDR', 'DDLDAIEVMR', 'DFAPNLLEDVK',\n",
       "       'DFMVQGGDFSEGNGRGGESIYGGFFEDESFAVK', 'DFPIEGIVFK', 'DGEILFK',\n",
       "       'DGENKAMHLSQLDMILDQTK', 'DGNVLDFEDVVASSVR', 'DGNVLDFEDVVASSVRPFR',\n",
       "       'DIIFGAVSMGTPK', 'DIIVILSYFGYAR', 'DIMAEIYK',\n",
       "       'DISPLLANGEVLNYTINQMAELAK', 'DLDEVLLVGGSTR', 'DLGCFAAQLGFELISWLCK',\n",
       "       'DLNNANNFNIQK', 'DLSPTLIDNSAAK', 'DNAFAVNEAR', 'DNIEFYSDHR',\n",
       "       'DNLSSWLEHLPRSQVR', 'DNQMMPTNLLYFVEK', 'DQVSVSEDPLDIK',\n",
       "       'DSQGLLDSSLMASGTASR', 'DSTSLSSESSSSSSESEEEDVGEYRPHHR',\n",
       "       'DVKDFPIEGIVFK', 'DVVVQHVHFDGLGR', 'DYASIDAAPEEK', 'DYKPEEISAK',\n",
       "       'EAFEAEYR', 'EAMVESIEYR', 'EAVTACAVTSLIK', 'ECAPTPAPVTR',\n",
       "       'ECNSPGCGWDGGDCSLSVGDPWRQCEALQCWR', 'EDTETLIK',\n",
       "       'EEETETSDLFLPDDDDEDEDEYESR', 'EEETSVTILDSSEEDK',\n",
       "       'EEGPAETVGSEASDTVEGVLPSK', 'EEGSGGGAGGGEGGGGGGEGLPPPEGK',\n",
       "       'EELTGCTNVEQANK', 'EEVLSESEAENQQAGAAALAPEIVIK', 'EFLGNFDTK',\n",
       "       'EGHLSVMAAQSVYDTSMPR', 'EGNAKNCWEDDR', 'EIIAQINTLK',\n",
       "       'EILSDDKHDWDQR', 'EIQSGMLLR', 'EKVEQEIQEVQNSTSLSK', 'ELALLEPEFILK',\n",
       "       'ELGHLTHQQAR', 'ELLIHQLEAK', 'ELLLLER', 'ELLQDTLTR',\n",
       "       'ELLSSYDFDGDNTPIVR', 'ELMMFYIDLK', 'ELPGHTGYLSCCR', 'ELPSDFQL',\n",
       "       'ELQEYLVPR', 'ELQMHSHLLK', 'ELQSAFNEITK', 'ELSGVQNELKR',\n",
       "       'ELTDNEGPPDFVPIVPALQK', 'ENEFIAIIGQTGSGK', 'ENLLIGSTSYVEEMPQIETR',\n",
       "       'ENSQQTELTPIVSK', 'ENYEQELEYPVSR', 'EPCGTPEYLGNPPFYEEVEEDDYENHDK',\n",
       "       'EPIEDLSPDR', 'EQIGILMGGVHND', 'EQLVAAVEDTTLER', 'EVGIQGTPTILVYK',\n",
       "       'EVGLELGPR', 'EVLASHDSSVVPLDAR', 'EVTPVSSIPVETHR',\n",
       "       'EWYSGGGGSGGGAVGSGSR', 'EYEKEAEREEER', 'EYLIGNTK', 'EYLQQLR',\n",
       "       'FADIGEGLHEGVVGEIFVK', 'FDENLEGQK', 'FDQQAADSYIK',\n",
       "       'FEEALHNSIEASLR', 'FEETQTQPKNK', 'FEISSEDGFSVEAESLEGAWR',\n",
       "       'FENDEVVYTVDNQEHR', 'FEQGVEMVKPGDNVNLTVELIAPIAVEQGTK',\n",
       "       'FFFSNTTQVSPDK', 'FGPNLDTCPEGTILGLR', 'FLASDLDQK', 'FLENVAAAETEK',\n",
       "       'FLFGVLFAICFSCLAAHVFALNFLAR', 'FLQEDVGTR',\n",
       "       'FLVFAFILALMVSMIGADSSEEKFLR', 'FMTFQMSLR', 'FNDALTVVER',\n",
       "       'FNLSGIEQAPR', 'FPEFQNNLVR', 'FQIIVGDQEVENK',\n",
       "       'FTCSAVNEAGTVSTSCYLAVQVSEEFEK', 'FVLQVSFGQK', 'FVNPLSEHDLIK',\n",
       "       'FVNVLGYER', 'GADINAEEAPK', 'GALEGKPEWEAK', 'GASFIFVGTK',\n",
       "       'GDIQTLKNYHWLNDEVINFYMNLLVER', 'GDSAEEAAPAPTTEAPK',\n",
       "       'GEELEQAVESLQAGEVLLVENTR', 'GFIDALTR', 'GFLFGTPTAAFLK', 'GFLILDK',\n",
       "       'GIDEAFETGQGK', 'GIDFIVGK', 'GIIASNTVR', 'GISELAHEFNDVR',\n",
       "       'GITINTAHIEYSTDK', 'GITINTAHIEYSTDKR', 'GITVIASNPVDIITR',\n",
       "       'GLDDLEKALR', 'GMFASTHLILK', 'GNQPEGSMVFTVSR',\n",
       "       'GNTAAQLSKTFHFNTVEEVHSR', 'GPLLIEFETDLDLDTSCYK', 'GSIDDDPAAAMR',\n",
       "       'GSLEWLDLDGDLAASR', 'GTEQELIGLLQAR', 'GVVTEAEVK', 'GYFAVTEK',\n",
       "       'HAVVAVANIVGK', 'HETVTTTTMTEETVK', 'HGVLSNTLVGYR', 'HLVFDLDR',\n",
       "       'HMEQLQCADEEFFTRDMEDMER', 'HTEQLLESEPQTVTLVPEQFSNANIDR',\n",
       "       'HTPFFPNYKPQFYFR', 'HYAHVDCPGHADYIK', 'HYKQLAQEPTLPVK',\n",
       "       'IAEHQVSMIK', 'IAEMVALMEK', 'IAGLEVER', 'IAMQTLDMGR',\n",
       "       'IDLTNNILVIK', 'IEDIDELK', 'IEILDNSGQLVDITNFSVK',\n",
       "       'IEKRIVITGDADIDHDQE', 'IELLQIK', 'IFDNSFVK',\n",
       "       'IFMVLEYCPGGELFDYIISQDR', 'IFVDYELAR', 'IGIEVPDLFLIGYGLDYQEK',\n",
       "       'IGIIFQNPDNQFVGATVEEDIAFSLENK', 'IGSEVSAGDILVGR',\n",
       "       'IHEHLKTSAEQHQRTLSAYQQR', 'IIDTMYKEAEE', 'IINEPTAAALAFGLEK',\n",
       "       'IIPEDLYVR', 'IISGIYKPQK', 'IISLSSSVPEAESQPIGK', 'IKSELTLVSVGR',\n",
       "       'ILELMDAVDTYIDSPVR', 'ILEQEEEEEQAGKPGEPSKK',\n",
       "       'ILLDILEEIWWLENANPVRWR', 'ILMNDTTLEYK', 'ILQQDWSDLMADPAGVR',\n",
       "       'ILTEAEIDAHLVALAERD', 'ILYTQEFIENK', 'IMGKEVK', 'INEIENLK',\n",
       "       'IQHLQQDCDVPSR', 'IQLELTDK', 'IQVLSMSGK',\n",
       "       'IRAYCETCWEWQEAHEPGMDQDK', 'ISFITDDPMPLQK', 'ISGALFTNDK',\n",
       "       'ISLNSLCYGDMDK', 'ISPEDRGENIGK', 'ISYWPADPEISLLTEASSSEDAKLDAK',\n",
       "       'ITALMVSCNRLWVGTGNGVIISIPLTETVILHQGR', 'ITLKDFLQAMNDIRPSAMR',\n",
       "       'ITSGPFEPDLYKSEMEVQDAELK', 'IVAEELANELGQEIIFVPVTR',\n",
       "       'IVSIKLLAAIQLFGANLDDYLHLLLPPIVK', 'IVTDLAHDIK', 'IVVFLNK',\n",
       "       'IWEYNVVIIVMACR', 'KAIQELQFGNEK', 'KATATISAKPQITNPK',\n",
       "       'KEDEDPQDGGSLASTLSK', 'KEDLQEVDGEIEAVLQK', 'KEEPQEEGGASVVGEVK',\n",
       "       'KIAILGYR', 'KIDLPGFAQAYQSGK', 'KINIEGQELVENEGR', 'KIPLVPENLLK',\n",
       "       'KKPLFITTDSSK', 'KLEELELDEQQKK', 'KLGITEAEFAQK',\n",
       "       'KLIDWLEDAESHLDSELEISNDPDK', 'KLPDMGCSLPEHR', 'KLPGDVISFEYDLEYGK',\n",
       "       'KTESIDVMDAVGSNIVVSTRTGEVMR', 'KTETMNVVMETNK', 'KTVVTGIEMFNK',\n",
       "       'KYDVSSLIK', 'LAECQDQLQGYER', 'LALVVFHQK', 'LAPHCSFAR', 'LASFLGR',\n",
       "       'LAVLSVFPSINTSVCDEQTK', 'LDFSSQADLR', 'LDSHPCLEVTAAALR',\n",
       "       'LDSVPVEEQEEFK', 'LEELDESYIEK', 'LEYCDEAVR', 'LGCEEMEGYGPLK',\n",
       "       'LGDASIAAPFTSK', 'LGGSQEDQIK', 'LGIFGGAGVGK', 'LGITEAEFAQK',\n",
       "       'LGTFLGQSGSNLK', 'LIANLLETAGATK', 'LIDLDPSVDTLK', 'LIDVISMYR',\n",
       "       'LIGNSLGKPLEK', 'LIPHMHSIIQYMLQR',\n",
       "       'LISLCLTLLSVTPDILQPGGTFLCKTWAGSQSR', 'LITVPIVNK', 'LIVAMSSWLQK',\n",
       "       'LKEPMDVDVEDYYPAFLDMVR', 'LLAELLNENTK', 'LLAESIAIK', 'LLEAGTYFGHK',\n",
       "       'LLEAHALYASSVPK', 'LLEQQEDFAGK', 'LLFELNNK', 'LLFTMLEK',\n",
       "       'LLGELLQDNAK', 'LLNKFEDNMIGPIQR', 'LLNQENIESELNSLR',\n",
       "       'LLPMTVVTMASAR', 'LLVVVQPTR', 'LLYSTDLLNINK', 'LMPPLIQK',\n",
       "       'LNEEVEIVGYK', 'LNEEVEIVGYKAEPK', 'LNLENIETENIR',\n",
       "       'LNYGSDSLGPYSQLAAMNR', 'LPGLLGNFPGPFEEEMK', 'LPQTSDDEKKDF',\n",
       "       'LQESLATTETFK', 'LQFEIAK', 'LQLQALEQEHK', 'LQMELMEYK',\n",
       "       'LQVAELEPQISER', 'LSAAHHPFTMPTFETLDLLK', 'LSCYVTGEPK',\n",
       "       'LSGSARPQELVGTFIQQEVGKPEDEASGSFFK', 'LSLLADEVDVLSR', 'LSPVSELR',\n",
       "       'LSPVSELREPPEEPPGR', 'LTAGDLGVTVVLLESGPQGAR', 'LTDSSPSSTSTSNSQR',\n",
       "       'LTEFEEAIGVIFTHVR', 'LVEGPIILK', 'LVGGVQGIVR', 'LVGLDESYLPK',\n",
       "       'LVNTLNTIPSLGQSPGPVVVSNNSSAHGSQR', 'LVPVLSAK',\n",
       "       'LVSGDESATLMLGSTESVAAR', 'MAATEDERLAGSGEGER', 'MAAVVAATALK',\n",
       "       'MADSTTMLSISDPIHMVLIK', 'MAENHCELLSPAR', 'MAIMYWK',\n",
       "       'MAQPGTLNLNNEVVKMR', 'MCVIEASLAPLEYK', 'MDFQHRPGGK', 'MDIPVMEGK',\n",
       "       'MDWKEVLRR', 'MEEWDVPQMK', 'MEQDYRVEK', 'METLSFPR', 'MEVVPAEIAK',\n",
       "       'MGDMANNSVAYSGVKNSLK', 'MGQREMWRLMSR', 'MGSVSSLISGHSFHSK',\n",
       "       'MIQPSASGSLVGR', 'MIVEPIMSDVTDLK', 'MLEELECGAPGAR',\n",
       "       'MLLSVMEGELEAR', 'MLWFQGAIPAAIATAKR', 'MMGIGKNTTSKSMEAGSSTEGK',\n",
       "       'MMTPFMGISPLPGGER', 'MNLPLVEMHGNK', 'MPIEDSSPEK',\n",
       "       'MPSTTAISSNISSPVTVR', 'MQINQDNTNVLEK', 'MQLEKLLWKDAQNK',\n",
       "       'MSMEDENFR', 'MTSLAQQLQR', 'MVCLTEDSAYLAEFLEEILR',\n",
       "       'MVGSCCTIMSPGEMEK', 'MYPIDFEKDDDSNFHMDFIVAASNLR',\n",
       "       'NDGYVHIHPSSVNYQVRHFDSPYLLYHEK', 'NDHLTSTTSSPGVIVPESSENK',\n",
       "       'NDKDKPLPPLLAR', 'NGTGVLILSPTR', 'NLIIATGSTDR', 'NLKPSAVAPQR',\n",
       "       'NLLELSAIQNK', 'NLLENSGWITQYTPYQPEVSQGR', 'NLNLELNPNQSVK',\n",
       "       'NLPYIGILKK', 'NLQASGLTTLGQALR', 'NLQSAMAGDNAGVLLR', 'NLTNSSIPMK',\n",
       "       'NLTTLETSANCVLLAHVVMNTPWNSPFYK', 'NMITGAAQMDGAILVVAATDGPMPQTR',\n",
       "       'NNNAGSFDSEGVASR', 'NQINLIEYIR', 'NTIEMQAITALAHLR', 'NTTPSVVAFK',\n",
       "       'NTTTLSEEEIER', 'NVCKNCSGTFCDACSTNELPLPSSIK', 'NVNLVLLCSEKPSK',\n",
       "       'PGAGSLQHAQPPPQPR', 'PGATNTCTQCSKVSCDACLSAYHYDPCYK',\n",
       "       'PGATVGCCLSSCLSNFHFMCARASYCIFQDDK', 'PLMVFNVK', 'PMGLLSR',\n",
       "       'PMMIITEYMENGALDK', 'PPYQISMCELGSANGVTSAFSVDCKGAGK', 'PSVLIVTYK',\n",
       "       'QDLQDLLIAK', 'QDVSYATATAR', 'QEDSLFASMPPLCPIGSHPK', 'QETVSPLLSR',\n",
       "       'QIQANPTNYK', 'QLETNPDAIASIK', 'QLFVPYCILYDR',\n",
       "       'QLRSFLDSYAAPGQMADAVIK', 'QLSDGIQELQQSLNQDFHQK', 'QMGLQPYPEILVVSR',\n",
       "       'QNLFYLETLNTK', 'QNNLPAQSGSHAAEK', 'QPDGVLIK', 'QPEDYFYLNQHNLK',\n",
       "       'QPTLQAAELIDSEFR', 'QQMTTFDEFTLR', 'QQSVESLAEEVK',\n",
       "       'QSNVAAPGDATPPAEKK', 'QTDVLQQLSIQMANAK', 'QTVANADAGYELLTTAIDMQK',\n",
       "       'QVPLNPDLNQTK', 'RAQAEPINLDSCLR', 'REPLPSLEAVYLITPSEK',\n",
       "       'RVVPLVQMGETDANVAK', 'SALLAAIR', 'SCLINELENPLCVESNAASCQQSPASK',\n",
       "       'SDSQIIENDSDLFVDLAAK', 'SDTSESGAGLTRFQAEASEK', 'SEFNDAIVISNR',\n",
       "       'SEIETVGNMLAK', 'SELTLVSVGR', 'SELVADEFCK', 'SEVGEAEFLASHVIR',\n",
       "       'SEVQQPVHPKPLSPDSR', 'SHNVAAGSYEAPLPPGSFHGDFAYGTYR', 'SIDDLDLK',\n",
       "       'SIRDAENPELAAK', 'SLDEHYHIR', 'SLDGMESYNLPFGMNIIK',\n",
       "       'SLEGSGKPPVATPSGPHSNR', 'SLLEGDIEGTQAR', 'SLMVVSMACVGLFLVQR',\n",
       "       'SLPAPQDNDFLSR', 'SLQPAVAEK', 'SLSNVFSQIHCR', 'SMDGYPEQFCVR',\n",
       "       'SMTLEIR', 'SPFADGGLESQGLSTLLGHR', 'SPGVLFLQFGEETR',\n",
       "       'SQIFPAINSDKLALVVFHQK', 'SQILQEGFVILQDK',\n",
       "       'SSAEEGEAEEADESSEEEDCTAGEKGISGSK', 'SSELIELK',\n",
       "       'SSSTSESGDSDNMRISSCSDESSNSNSSR', 'SSTVGEIVNLMSVDAQR', 'STIPHEISEK',\n",
       "       'STLEIQTNMLK', 'STTTAENKPASALSR', 'SVEVLELVNHASDYGVIGHTVPFK',\n",
       "       'SVGECVAFYYMWKK', 'SVLEEYGQDLDQLGEGDR', 'SVSGASTGLSSSPLSSPR',\n",
       "       'SVSMLSLNTPNSNR', 'SVVCFYEAADSMHASK', 'SYEPLEDPGVK',\n",
       "       'TAFLASLVSALQAPDGAK', 'TAINNEILK', 'TAQIINTQDLEK', 'TCYEMGSPPFIEK',\n",
       "       'TDGSFVVHDIPSGSYVVEVVSPAYR', 'TEIGVLLR', 'TFQPITISK', 'TFTMSVSEMK',\n",
       "       'TGAGMVEVTSLLK', 'TIDQMLNSELQWPVPDIYLR', 'TIILATHDLDNVLK',\n",
       "       'TINVYPNFRPTPK', 'TISSSMTSVFYSSIK', 'TIVPHTTFK', 'TKVEATKNETSAPFK',\n",
       "       'TMLEDLGMDDEGDDDPVPLPNVNAAILKK', 'TNVEGVYAIGDVSGK', 'TPLFETYSDWDR',\n",
       "       'TPVVESARPNSTSSR', 'TQEDNWAIEIK', 'TQNILLDNEFHVK',\n",
       "       'TQTESSTPPGIPGGSR', 'TQVAADWTALAEEMDFEYLEIR', 'TSEDNMTHMVTHMPDQYK',\n",
       "       'TSSSFSDMNASIANIAVHSPGAAELLAHK', 'TTGITKENYEQELEYPVSR',\n",
       "       'TTLALFEFTDR', 'TTLTAAISTVLSK', 'TTMVTSFTNEDLLR',\n",
       "       'TTSISAGNEEFQDAIR', 'TTVQNLEIIK', 'TTYGALGVK', 'TVAVDSLPK',\n",
       "       'TVDWCLLR', 'TVEDIAWAR', 'TVGAGTVTEIVK', 'TVPACIYTNPEIASIGLTEEQAK',\n",
       "       'TVVTGIEMFNK', 'VADLELEEGLAEEK', 'VDAEESGLFR', 'VDIHADMSYTR',\n",
       "       'VESGGPGTSAASAR', 'VEVKEGATGQWR', 'VFAAEYADLK', 'VFAQPNLAEMIQK',\n",
       "       'VFESNDISNISLK', 'VFIDNIEMSSK', 'VFLLLQKLLTMDPTK',\n",
       "       'VGNITVIGWQMEEK', 'VGSFLGFTDVHIR', 'VGSKVDITTLR', 'VGSLENIQR',\n",
       "       'VGSTSQPTLETFQDLLHR', 'VHPSAVESAPEK', 'VIGIMDSNTDPSLLDFGIPANDDSVK',\n",
       "       'VIGSGTILDTR', 'VIGSGTILDTRR', 'VIITNSIDNSELEAK', 'VLDLQADSR',\n",
       "       'VLEEQLSAIDTR', 'VLETLVTVAEEHHR', 'VLGATSFR',\n",
       "       'VLMQELVTLIEQRNAIINCLDEDR', 'VLNLSDNR', 'VLQDFFDANAYPK',\n",
       "       'VLSPEAVR', 'VMDVTEDEEEEIKQEINMLKK', 'VMVLSESLSTR',\n",
       "       'VNDFETADILCPK', 'VNTLIRPDGEKK', 'VNVHVLGVLLGQK', 'VPAVPPGVR',\n",
       "       'VPLPGPLFDALPR', 'VQSYEFLQK', 'VSAAFSSQQQPFQQALAGSLVAGAGSTVETDLFK',\n",
       "       'VSFSYSEK', 'VSHLNLVDLAGSER', 'VSNELFDLSAFTK', 'VSNELFDLSAFTKPK',\n",
       "       'VSVGILNIK', 'VTDHLEALIDPFDLDVFTPHLNSNLHR', 'VTQATSSASADMLPVITGNR',\n",
       "       'VTTINQEIQK', 'VVAPVESHVPESNQAQGESPAANEGTTVQHPEAPQEEKQSEK',\n",
       "       'VWQLQDLSFQTAAR', 'WPLKEISVDEDDQCLLQNDGFFLYLLCK', 'WQDLNVISSLLK',\n",
       "       'YDVSSLIKV', 'YENYELTLK', 'YIGPLTITPTVALIGLSGFQAAGER',\n",
       "       'YLDNEPQFLSGGQK', 'YLIGVDTDQSK', 'YLPGISIR', 'YNEWADDRR',\n",
       "       'YPCEWGGVAAGR', 'YPTPYPEDLK', 'YQQNAEQYGGTRDYWQGNGYWDPR',\n",
       "       'YSALLAGNLR', 'YSEIEVPIYGTNTAGVR', 'YTLDEFGTAR'], dtype=object)"
      ]
     },
     "execution_count": 22,
     "metadata": {},
     "output_type": "execute_result"
    }
   ],
   "source": [
    "#There are a bunch of peptides found in the razor+unique data that aren't identified in the unique only data\n",
    "different_peptides = np.setdiff1d(all30_razor_unique_msp['Sequence'], all30_unique_msp['Sequence'])\n",
    "# This list is larger than the peptide differences, meaning there are similar peptides in the unique data that weren't identified in the razor+unique\n",
    "print(len(different_peptides))\n",
    "different_peptides"
   ]
  },
  {
   "cell_type": "code",
   "execution_count": null,
   "metadata": {},
   "outputs": [],
   "source": []
  },
  {
   "cell_type": "code",
   "execution_count": 25,
   "metadata": {},
   "outputs": [
    {
     "data": {
      "text/plain": [
       "False"
      ]
     },
     "execution_count": 25,
     "metadata": {},
     "output_type": "execute_result"
    }
   ],
   "source": [
    "'Q9UPN3-2;Q9UPN3-3;Q9UPN3;Q9UPN3-4' in all30_razor_unique_msp['Protein Groups']"
   ]
  },
  {
   "cell_type": "code",
   "execution_count": 35,
   "metadata": {},
   "outputs": [],
   "source": [
    "# Looking at one example where razor peptides changes\n",
    "example_peptides = all30_razor_unique_msp[all30_razor_unique_msp['Proteins'] == 'Q9UPN3-2;Q9UPN3-3;Q9UPN3;Q9UPN3-4']['Sequence']"
   ]
  },
  {
   "cell_type": "code",
   "execution_count": 40,
   "metadata": {},
   "outputs": [
    {
     "data": {
      "text/plain": [
       "'KLIDWLEDAESHLDSELEISNDPDK'"
      ]
     },
     "execution_count": 40,
     "metadata": {},
     "output_type": "execute_result"
    }
   ],
   "source": [
    "# This peptide responsible for changing the number of razor peptides was ID'ed in the new dataset but not in the old one\n",
    "list(example_peptides)[([x in different_peptides for x in example_peptides].index(True))]"
   ]
  },
  {
   "cell_type": "code",
   "execution_count": 41,
   "metadata": {},
   "outputs": [
    {
     "data": {
      "text/plain": [
       "1"
      ]
     },
     "execution_count": 41,
     "metadata": {},
     "output_type": "execute_result"
    }
   ],
   "source": [
    "np.sum([x in different_peptides for x in example_peptides])"
   ]
  },
  {
   "cell_type": "code",
   "execution_count": null,
   "metadata": {},
   "outputs": [],
   "source": []
  }
 ],
 "metadata": {
  "kernelspec": {
   "display_name": "Python 3",
   "language": "python",
   "name": "python3"
  },
  "language_info": {
   "codemirror_mode": {
    "name": "ipython",
    "version": 3
   },
   "file_extension": ".py",
   "mimetype": "text/x-python",
   "name": "python",
   "nbconvert_exporter": "python",
   "pygments_lexer": "ipython3",
   "version": "3.6.10"
  }
 },
 "nbformat": 4,
 "nbformat_minor": 4
}
